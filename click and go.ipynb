{
 "cells": [
  {
   "cell_type": "code",
   "execution_count": 29,
   "metadata": {},
   "outputs": [],
   "source": [
    "from selenium import webdriver\n",
    "from selenium.webdriver.edge.service import Service\n",
    "from selenium.webdriver.common.keys import Keys\n",
    "from selenium.webdriver.common.by import By  # Import   By class\n",
    "import time\n",
    "from selenium.webdriver.support.ui import WebDriverWait\n",
    "from selenium.webdriver.support import expected_conditions as EC\n",
    "\n",
    "\n"
   ]
  },
  {
   "cell_type": "markdown",
   "metadata": {},
   "source": [
    "Click a link used in a card"
   ]
  },
  {
   "cell_type": "code",
   "execution_count": 30,
   "metadata": {},
   "outputs": [
    {
     "name": "stdout",
     "output_type": "stream",
     "text": [
      "Tech with Tim | Your ultimate resource for learning to code\n",
      "Element found\n"
     ]
    }
   ],
   "source": [
    "# Path to your Edge WebDriver executable\n",
    "PATH = \"/home/asif/Downloads/edgedriver_linux64/msedgedriver\"\n",
    "\n",
    "# Create a Service object for Edge WebDriver\n",
    "service = Service(executable_path=PATH)\n",
    "\n",
    "# Initialize the Edge WebDriver with the Service object\n",
    "driver = webdriver.Edge(service=service)\n",
    "\n",
    "# Open a webpage\n",
    "driver.get(\"https://www.techwithtim.net/\")\n",
    "print(driver.title)\n",
    "\n",
    "try:\n",
    "    tutorials = WebDriverWait(driver, 10).until(\n",
    "        EC.presence_of_element_located((By.CLASS_NAME, \"content__CardContentContainer-sc-1nrnigk-0\")) # class name,not unique,so there can be better way to locate the element\n",
    "    )\n",
    "    tutorials.click()\n",
    "    print(\"Element found\")\n",
    "    # go back to the previous page\n",
    "    driver.back()\n",
    "    \n",
    "except:\n",
    "    driver.quit()"
   ]
  },
  {
   "cell_type": "markdown",
   "metadata": {},
   "source": [
    "If the link we want to access is out of view,scroll the page to make it visible. Code is following"
   ]
  },
  {
   "cell_type": "code",
   "execution_count": 31,
   "metadata": {},
   "outputs": [],
   "source": [
    "# Machine Learning link by text\n",
    "ml_link = WebDriverWait(driver, 10).until(\n",
    "    EC.presence_of_element_located((By.XPATH, \"//a[text()='Machine Learning']\"))\n",
    ")\n",
    "\n",
    "# Scroll the element into view\n",
    "driver.execute_script(\"arguments[0].scrollIntoView();\", ml_link)\n",
    "\n",
    "# Use JavaScript to click the element\n",
    "driver.execute_script(\"arguments[0].click();\", ml_link)\n",
    "\n",
    "\n",
    "# print(f\"Machine Learning link: {ml_link.get_attribute('href')}\")\n",
    "\n",
    "# # Web Development link by text\n",
    "# webdev_link = WebDriverWait(driver, 10).until(\n",
    "#     EC.presence_of_element_located((By.XPATH, \"//a[text()='Web Development']\"))\n",
    "# )\n",
    "# print(f\"Web Development link: {webdev_link.get_attribute('href')}\")\n"
   ]
  }
 ],
 "metadata": {
  "kernelspec": {
   "display_name": "Python 3",
   "language": "python",
   "name": "python3"
  },
  "language_info": {
   "codemirror_mode": {
    "name": "ipython",
    "version": 3
   },
   "file_extension": ".py",
   "mimetype": "text/x-python",
   "name": "python",
   "nbconvert_exporter": "python",
   "pygments_lexer": "ipython3",
   "version": "3.10.12"
  }
 },
 "nbformat": 4,
 "nbformat_minor": 2
}
